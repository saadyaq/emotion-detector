{
 "cells": [
  {
   "cell_type": "code",
   "execution_count": 1,
   "id": "daa77ecd",
   "metadata": {},
   "outputs": [],
   "source": [
    "import sys\n",
    "import os\n",
    "import numpy as np\n",
    "import pandas as pd\n",
    "from sklearn.linear_model import LogisticRegression\n",
    "from sklearn.ensemble import RandomForestClassifier\n",
    "from sklearn.svm import SVC\n",
    "from sklearn.neural_network import MLPClassifier\n",
    "from sklearn.model_selection import train_test_split\n",
    "from sklearn.metrics import accuracy_score,f1_score,classification_report,confusion_matrix\n",
    "sys.path.append(os.path.abspath(\"../src\"))\n",
    "import importlib\n",
    "import preprocess\n",
    "importlib.reload(preprocess)\n",
    "from preprocess import standardize,reduce_pca\n",
    "from joblib import dump"
   ]
  },
  {
   "cell_type": "code",
   "execution_count": 2,
   "id": "bf7fcfd9",
   "metadata": {},
   "outputs": [
    {
     "name": "stdout",
     "output_type": "stream",
     "text": [
      "(1440, 9)\n",
      "(1440,)\n"
     ]
    }
   ],
   "source": [
    "X=np.load(\"../data/X.npy\")\n",
    "y=np.load(\"../data/y.npy\")\n",
    "print(X.shape)\n",
    "print(y.shape)"
   ]
  },
  {
   "cell_type": "code",
   "execution_count": 3,
   "id": "9d76b5df",
   "metadata": {},
   "outputs": [],
   "source": [
    "X_train,X_test,y_train,y_test=train_test_split(X,y,test_size=0.3,random_state=42)"
   ]
  },
  {
   "cell_type": "code",
   "execution_count": 40,
   "id": "814137ea",
   "metadata": {},
   "outputs": [
    {
     "data": {
      "text/plain": [
       "<Axes: >"
      ]
     },
     "execution_count": 40,
     "metadata": {},
     "output_type": "execute_result"
    },
    {
     "data": {
      "image/png": "[encoded data removed]",
      "text/plain": [
       "<Figure size 640x480 with 1 Axes>"
      ]
     },
     "metadata": {},
     "output_type": "display_data"
    }
   ],
   "source": [
    "pd.Series(y_train).value_counts().plot(kind='bar')"
   ]
  },
  {
   "cell_type": "code",
   "execution_count": 4,
   "id": "b9dfb8e2",
   "metadata": {},
   "outputs": [],
   "source": [
    "X_train_scaled,scaler=standardize(X_train)\n",
    "X_test_scaled=scaler.transform(X_test)"
   ]
  },
  {
   "cell_type": "code",
   "execution_count": 35,
   "id": "e9086a64",
   "metadata": {},
   "outputs": [
    {
     "name": "stdout",
     "output_type": "stream",
     "text": [
      "(1008, 6)\n",
      "(432, 6)\n"
     ]
    }
   ],
   "source": [
    "X_train_pca, pca= reduce_pca(X_train_scaled, n_components=0.95)\n",
    "X_test_pca = pca.transform(X_test_scaled)\n",
    "print(X_train_pca.shape)\n",
    "print(X_test_pca.shape)\n"
   ]
  },
  {
   "cell_type": "code",
   "execution_count": 42,
   "id": "40c6adf6",
   "metadata": {},
   "outputs": [
    {
     "name": "stdout",
     "output_type": "stream",
     "text": [
      "Logistic Regression\n",
      "Accuracy:  0.3611111111111111\n",
      "F1 Score:  0.33220565334608154\n",
      "Classification Report: \n",
      "               precision    recall  f1-score   support\n",
      "\n",
      "       angry       0.56      0.47      0.51        62\n",
      "        calm       0.33      0.82      0.47        51\n",
      "     disgust       0.28      0.33      0.31        60\n",
      "     fearful       0.25      0.21      0.23        52\n",
      "       happy       0.36      0.20      0.26        60\n",
      "     neutral       0.00      0.00      0.00        28\n",
      "         sad       0.41      0.20      0.27        61\n",
      "   surprised       0.39      0.52      0.44        58\n",
      "\n",
      "    accuracy                           0.36       432\n",
      "   macro avg       0.32      0.34      0.31       432\n",
      "weighted avg       0.35      0.36      0.33       432\n",
      "\n",
      "Confusion Matrix: \n",
      " [[29  1 11  8  3  0  2  8]\n",
      " [ 0 42  4  1  1  0  3  0]\n",
      " [ 0 15 20  4  5  0  0 16]\n",
      " [12  7  4 11  6  0  5  7]\n",
      " [ 9 10  8 13 12  0  4  4]\n",
      " [ 0 18  3  1  2  0  1  3]\n",
      " [ 0 25 11  3  1  0 12  9]\n",
      " [ 2  8 10  3  3  0  2 30]]\n",
      "--------------------------------------------------\n"
     ]
    },
    {
     "name": "stderr",
     "output_type": "stream",
     "text": [
      "/home/saadyaq/SE/Python/emotion_detector/venv/lib/python3.12/site-packages/sklearn/metrics/_classification.py:1565: UndefinedMetricWarning: Precision is ill-defined and being set to 0.0 in labels with no predicted samples. Use `zero_division` parameter to control this behavior.\n",
      "  _warn_prf(average, modifier, f\"{metric.capitalize()} is\", len(result))\n",
      "/home/saadyaq/SE/Python/emotion_detector/venv/lib/python3.12/site-packages/sklearn/metrics/_classification.py:1565: UndefinedMetricWarning: Precision is ill-defined and being set to 0.0 in labels with no predicted samples. Use `zero_division` parameter to control this behavior.\n",
      "  _warn_prf(average, modifier, f\"{metric.capitalize()} is\", len(result))\n",
      "/home/saadyaq/SE/Python/emotion_detector/venv/lib/python3.12/site-packages/sklearn/metrics/_classification.py:1565: UndefinedMetricWarning: Precision is ill-defined and being set to 0.0 in labels with no predicted samples. Use `zero_division` parameter to control this behavior.\n",
      "  _warn_prf(average, modifier, f\"{metric.capitalize()} is\", len(result))\n"
     ]
    }
   ],
   "source": [
    "# Logistic Regression\n",
    "lg= LogisticRegression(max_iter=1000)\n",
    "lg.fit(X_train_scaled,y_train)\n",
    "y_pred=lg.predict(X_test_scaled)\n",
    "print(\"Logistic Regression\")\n",
    "print(\"Accuracy: \",accuracy_score(y_test,y_pred))\n",
    "print(\"F1 Score: \",f1_score(y_test,y_pred,average='weighted'))\n",
    "print(\"Classification Report: \\n\",classification_report(y_test,y_pred))\n",
    "print(\"Confusion Matrix: \\n\",confusion_matrix(y_test,y_pred))\n",
    "print(\"--------------------------------------------------\")"
   ]
  },
  {
   "cell_type": "code",
   "execution_count": 6,
   "id": "627a27d7",
   "metadata": {},
   "outputs": [
    {
     "name": "stdout",
     "output_type": "stream",
     "text": [
      "Random Forest\n",
      "Accuracy:  0.42824074074074076\n",
      "F1 Score:  0.42064863547239484\n",
      "Classification Report: \n",
      "               precision    recall  f1-score   support\n",
      "\n",
      "       angry       0.63      0.47      0.54        62\n",
      "        calm       0.45      0.76      0.57        51\n",
      "     disgust       0.39      0.43      0.41        60\n",
      "     fearful       0.35      0.33      0.34        52\n",
      "       happy       0.35      0.30      0.32        60\n",
      "     neutral       0.32      0.29      0.30        28\n",
      "         sad       0.41      0.30      0.34        61\n",
      "   surprised       0.46      0.52      0.49        58\n",
      "\n",
      "    accuracy                           0.43       432\n",
      "   macro avg       0.42      0.42      0.41       432\n",
      "weighted avg       0.43      0.43      0.42       432\n",
      "\n",
      "Confusion Matrix: \n",
      " [[29  1  7  8  6  1  2  8]\n",
      " [ 0 39  4  0  0  3  5  0]\n",
      " [ 3  6 26  4  6  5  4  6]\n",
      " [ 5  4  0 17  8  2  9  7]\n",
      " [ 8  6  5 13 18  1  2  7]\n",
      " [ 0 10  4  2  1  8  2  1]\n",
      " [ 0 17 10  0  7  3 18  6]\n",
      " [ 1  3 10  4  6  2  2 30]]\n",
      "--------------------------------------------------\n"
     ]
    },
    {
     "data": {
      "text/plain": [
       "['../models/rf.joblib']"
      ]
     },
     "execution_count": 6,
     "metadata": {},
     "output_type": "execute_result"
    }
   ],
   "source": [
    "# Random Forest\n",
    "rf= RandomForestClassifier(n_estimators=100)\n",
    "rf.fit(X_train_scaled,y_train)\n",
    "y_pred=rf.predict(X_test_scaled)\n",
    "print(\"Random Forest\")\n",
    "print(\"Accuracy: \",accuracy_score(y_test,y_pred))\n",
    "print(\"F1 Score: \",f1_score(y_test,y_pred,average='weighted'))\n",
    "print(\"Classification Report: \\n\",classification_report(y_test,y_pred))\n",
    "print(\"Confusion Matrix: \\n\",confusion_matrix(y_test,y_pred))\n",
    "print(\"--------------------------------------------------\")\n",
    "dump(rf, \"../models/rf.joblib\")"
   ]
  },
  {
   "cell_type": "code",
   "execution_count": 47,
   "id": "36a00f2d",
   "metadata": {},
   "outputs": [
    {
     "name": "stdout",
     "output_type": "stream",
     "text": [
      "MLP Classifier\n",
      "Accuracy:  0.3541666666666667\n",
      "F1 Score:  0.33117327513914224\n",
      "Classification Report: \n",
      "               precision    recall  f1-score   support\n",
      "\n",
      "       angry       0.61      0.40      0.49        62\n",
      "        calm       0.34      0.71      0.46        51\n",
      "     disgust       0.28      0.32      0.30        60\n",
      "     fearful       0.29      0.25      0.27        52\n",
      "       happy       0.37      0.17      0.23        60\n",
      "     neutral       0.00      0.00      0.00        28\n",
      "         sad       0.33      0.28      0.30        61\n",
      "   surprised       0.36      0.57      0.44        58\n",
      "\n",
      "    accuracy                           0.35       432\n",
      "   macro avg       0.32      0.34      0.31       432\n",
      "weighted avg       0.35      0.35      0.33       432\n",
      "\n",
      "Confusion Matrix: \n",
      " [[25  1  8  9  4  0  2 13]\n",
      " [ 0 36  8  1  0  0  6  0]\n",
      " [ 0  9 19  4  3  0  7 18]\n",
      " [ 9  8  2 13  6  0  6  8]\n",
      " [ 7 10  5 13 10  0  7  8]\n",
      " [ 0 16  3  0  2  0  4  3]\n",
      " [ 0 21 11  3  0  1 17  8]\n",
      " [ 0  6 11  2  2  1  3 33]]\n"
     ]
    }
   ],
   "source": [
    "#MLP¨\n",
    "# Créer le modèle\n",
    "from sklearn.preprocessing import LabelEncoder\n",
    "\n",
    "le = LabelEncoder()\n",
    "y_train_enc = le.fit_transform(y_train)\n",
    "y_test_enc = le.transform(y_test)\n",
    "mlp = MLPClassifier(hidden_layer_sizes=(128,), activation='relu', solver='adam',\n",
    "                    max_iter=500, random_state=42, early_stopping=True)\n",
    "\n",
    "# Entraînement\n",
    "mlp.fit(X_train_scaled, y_train_enc)\n",
    "y_pred_enc = mlp.predict(X_test_scaled)\n",
    "y_pred = le.inverse_transform(y_pred_enc)\n",
    "# Évaluation\n",
    "print(\"MLP Classifier\")\n",
    "print(\"Accuracy: \", accuracy_score(y_test, y_pred))\n",
    "print(\"F1 Score: \", f1_score(y_test, y_pred, average='weighted'))\n",
    "print(\"Classification Report: \\n\", classification_report(y_test, y_pred))\n",
    "print(\"Confusion Matrix: \\n\", confusion_matrix(y_test, y_pred))"
   ]
  },
  {
   "cell_type": "code",
   "execution_count": 48,
   "id": "eb4228d1",
   "metadata": {},
   "outputs": [],
   "source": [
    "import torch\n",
    "import torch.nn as nn\n",
    "import torch.optim as optim\n",
    "from torch.utils.data import TensorDataset, DataLoader\n",
    "from sklearn.preprocessing import LabelEncoder\n",
    "\n",
    "# Assure-toi que tes données sont en float32\n",
    "X_train_torch = torch.tensor(X_train_scaled, dtype=torch.float32)\n",
    "y_train_torch = torch.tensor(y_train_enc, dtype=torch.long)\n",
    "X_test_torch = torch.tensor(X_test_scaled, dtype=torch.float32)\n",
    "y_test_torch = torch.tensor(y_test_enc, dtype=torch.long)\n",
    "\n",
    "train_dataset = TensorDataset(X_train_torch, y_train_torch)\n",
    "test_dataset = TensorDataset(X_test_torch, y_test_torch)\n",
    "\n",
    "train_loader = DataLoader(train_dataset, batch_size=32, shuffle=True)\n",
    "test_loader = DataLoader(test_dataset, batch_size=32)\n"
   ]
  },
  {
   "cell_type": "code",
   "execution_count": 49,
   "id": "dcd880ab",
   "metadata": {},
   "outputs": [],
   "source": [
    "class VoiceEmotionClassifier(nn.Module):\n",
    "    def __init__(self, input_dim, hidden_dim, output_dim):\n",
    "        super().__init__()\n",
    "        self.model = nn.Sequential(\n",
    "            nn.Linear(input_dim, hidden_dim),\n",
    "            nn.ReLU(),\n",
    "            nn.Dropout(0.3),\n",
    "            nn.Linear(hidden_dim, output_dim)\n",
    "        )\n",
    "\n",
    "    def forward(self, x):\n",
    "        return self.model(x)\n"
   ]
  },
  {
   "cell_type": "code",
   "execution_count": 50,
   "id": "36272546",
   "metadata": {},
   "outputs": [],
   "source": [
    "input_dim = X_train_torch.shape[1]\n",
    "output_dim = len(torch.unique(y_train_torch))\n",
    "\n",
    "model = VoiceEmotionClassifier(input_dim, hidden_dim=128, output_dim=output_dim)\n",
    "criterion = nn.CrossEntropyLoss()\n",
    "optimizer = optim.Adam(model.parameters(), lr=0.001)\n"
   ]
  },
  {
   "cell_type": "code",
   "execution_count": 51,
   "id": "e1de4f9d",
   "metadata": {},
   "outputs": [
    {
     "name": "stdout",
     "output_type": "stream",
     "text": [
      "Epoch 1/20 - Loss: 64.0594\n",
      "Epoch 2/20 - Loss: 60.1872\n",
      "Epoch 3/20 - Loss: 58.1624\n",
      "Epoch 4/20 - Loss: 56.5734\n",
      "Epoch 5/20 - Loss: 55.6548\n",
      "Epoch 6/20 - Loss: 54.7142\n",
      "Epoch 7/20 - Loss: 54.2485\n",
      "Epoch 8/20 - Loss: 53.7875\n",
      "Epoch 9/20 - Loss: 53.1654\n",
      "Epoch 10/20 - Loss: 52.7018\n",
      "Epoch 11/20 - Loss: 52.0882\n",
      "Epoch 12/20 - Loss: 52.4357\n",
      "Epoch 13/20 - Loss: 51.9602\n",
      "Epoch 14/20 - Loss: 51.3368\n",
      "Epoch 15/20 - Loss: 51.3372\n",
      "Epoch 16/20 - Loss: 50.7873\n",
      "Epoch 17/20 - Loss: 51.0244\n",
      "Epoch 18/20 - Loss: 50.6129\n",
      "Epoch 19/20 - Loss: 50.1688\n",
      "Epoch 20/20 - Loss: 50.3795\n"
     ]
    }
   ],
   "source": [
    "epochs = 20\n",
    "\n",
    "for epoch in range(epochs):\n",
    "    model.train()\n",
    "    total_loss = 0\n",
    "    for xb, yb in train_loader:\n",
    "        optimizer.zero_grad()\n",
    "        preds = model(xb)\n",
    "        loss = criterion(preds, yb)\n",
    "        loss.backward()\n",
    "        optimizer.step()\n",
    "        total_loss += loss.item()\n",
    "    print(f\"Epoch {epoch+1}/{epochs} - Loss: {total_loss:.4f}\")\n"
   ]
  },
  {
   "cell_type": "code",
   "execution_count": 52,
   "id": "08f861ff",
   "metadata": {},
   "outputs": [
    {
     "name": "stdout",
     "output_type": "stream",
     "text": [
      "Test Accuracy: 0.38425925925925924\n"
     ]
    }
   ],
   "source": [
    "model.eval()\n",
    "with torch.no_grad():\n",
    "    correct, total = 0, 0\n",
    "    all_preds = []\n",
    "    for xb, yb in test_loader:\n",
    "        preds = model(xb)\n",
    "        predicted = torch.argmax(preds, dim=1)\n",
    "        all_preds.extend(predicted.tolist())\n",
    "        correct += (predicted == yb).sum().item()\n",
    "        total += yb.size(0)\n",
    "\n",
    "accuracy = correct / total\n",
    "print(\"Test Accuracy:\", accuracy)\n"
   ]
  }
 ],
 "metadata": {
  "kernelspec": {
   "display_name": "venv",
   "language": "python",
   "name": "python3"
  },
  "language_info": {
   "codemirror_mode": {
    "name": "ipython",
    "version": 3
   },
   "file_extension": ".py",
   "mimetype": "text/x-python",
   "name": "python",
   "nbconvert_exporter": "python",
   "pygments_lexer": "ipython3",
   "version": "3.12.3"
  }
 },
 "nbformat": 4,
 "nbformat_minor": 5
}
