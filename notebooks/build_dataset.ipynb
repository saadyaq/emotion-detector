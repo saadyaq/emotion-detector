{
 "cells": [
  {
   "cell_type": "code",
   "execution_count": 5,
   "metadata": {},
   "outputs": [],
   "source": [
    "import pandas as pd\n",
    "import numpy as np\n",
    "import os\n",
    "import sys\n",
    "import sys\n",
    "import os\n",
    "sys.path.append(os.path.abspath(\"../src\"))\n",
    "import librosa\n",
    "from feature_extraction import extract_features"
   ]
  },
  {
   "cell_type": "code",
   "execution_count": 12,
   "metadata": {},
   "outputs": [],
   "source": [
    "df=\"/home/saadyaq/SE/Python/emotion_detector/data/metadata.csv\""
   ]
  },
  {
   "cell_type": "code",
   "execution_count": 14,
   "metadata": {},
   "outputs": [],
   "source": [
    "def load_data(df):\n",
    "    \"\"\"Load audio data and extarct features\"\"\"\n",
    "    # Load the metadata\n",
    "    metadata=pd.read_csv(df)\n",
    "    # Initialize lists to hold features and labels\n",
    "    features=[]\n",
    "    labels=[]\n",
    "    # Loop through each row in the metadata\n",
    "    for index,row in metadata.iterrows():\n",
    "        #Load the audio file\n",
    "        audio_file=row['path']\n",
    "        # Extract features\n",
    "        feature=extract_features(audio_file)\n",
    "        # Append features and labels to the lists\n",
    "        features.append(feature)\n",
    "        labels.append(row['emotion'])\n",
    "    # Convert features and labels to numpy arrays\n",
    "    features=np.array(features)\n",
    "    labels=np.array(labels)\n",
    "    # Return the features and labels\n",
    "    return features, labels\n",
    "\n",
    "        "
   ]
  },
  {
   "cell_type": "code",
   "execution_count": 15,
   "metadata": {},
   "outputs": [
    {
     "name": "stderr",
     "output_type": "stream",
     "text": [
      "/home/saadyaq/SE/Python/emotion_detector/src/feature_extraction.py:30: FutureWarning: librosa.beat.tempo\n",
      "\tThis function was moved to 'librosa.feature.rhythm.tempo' in librosa version 0.10.0.\n",
      "\tThis alias will be removed in librosa version 1.0.\n",
      "  features['tempo']=np.mean(librosa.beat.tempo(y=y,sr=sr))\n"
     ]
    },
    {
     "name": "stdout",
     "output_type": "stream",
     "text": [
      "(array([[ 4.83119786e-01,  4.20739472e-01, -3.45204277e+01, ...,\n",
      "         3.74913565e-03,  3.87904371e-02,  1.17187500e+02],\n",
      "       [ 4.67727572e-01,  4.78953123e-01, -3.02648869e+01, ...,\n",
      "         7.07302149e-03,  6.41146233e-02,  1.27840909e+02],\n",
      "       [ 4.98888493e-01,  4.75556612e-01, -3.59189110e+01, ...,\n",
      "         1.97286555e-03,  2.77173146e-02,  1.44230769e+02],\n",
      "       ...,\n",
      "       [ 4.91685301e-01,  3.86798322e-01, -2.94485664e+01, ...,\n",
      "         3.14329984e-03,  5.44288429e-02,  9.69827586e+01],\n",
      "       [ 5.14219224e-01,  3.82964700e-01, -2.74932327e+01, ...,\n",
      "         6.49816310e-03,  6.29937986e-02,  1.37195122e+02],\n",
      "       [ 5.13569117e-01,  4.67561364e-01, -2.65748825e+01, ...,\n",
      "         6.53460808e-03,  6.34467231e-02,  1.33928571e+02]]), array(['sad', 'fearful', 'neutral', ..., 'sad', 'surprised', 'surprised'],\n",
      "      dtype='<U9'))\n"
     ]
    }
   ],
   "source": [
    "print(load_data(df))"
   ]
  }
 ],
 "metadata": {
  "kernelspec": {
   "display_name": "venv",
   "language": "python",
   "name": "python3"
  },
  "language_info": {
   "codemirror_mode": {
    "name": "ipython",
    "version": 3
   },
   "file_extension": ".py",
   "mimetype": "text/x-python",
   "name": "python",
   "nbconvert_exporter": "python",
   "pygments_lexer": "ipython3",
   "version": "3.12.3"
  }
 },
 "nbformat": 4,
 "nbformat_minor": 2
}
