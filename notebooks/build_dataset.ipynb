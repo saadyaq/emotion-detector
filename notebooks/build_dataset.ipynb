{
 "cells": [
  {
   "cell_type": "code",
   "execution_count": 3,
   "metadata": {},
   "outputs": [],
   "source": [
    "import pandas as pd\n",
    "from tqdm import tqdm\n",
    "import numpy as np\n",
    "import os\n",
    "import sys\n",
    "import sys\n",
    "import os\n",
    "sys.path.append(os.path.abspath(\"../src\"))\n",
    "import librosa\n",
    "from feature_extraction import extract_features"
   ]
  },
  {
   "cell_type": "code",
   "execution_count": 4,
   "metadata": {},
   "outputs": [],
   "source": [
    "df=\"/home/saadyaq/SE/Python/emotion_detector/data/metadata.csv\""
   ]
  },
  {
   "cell_type": "code",
   "execution_count": 5,
   "metadata": {},
   "outputs": [],
   "source": [
    "def load_data(df):\n",
    "    \"\"\"Load audio data and extarct features\"\"\"\n",
    "    # Load the metadata\n",
    "    metadata=pd.read_csv(df)\n",
    "    # Initialize lists to hold features and labels\n",
    "    features=[]\n",
    "    labels=[]\n",
    "    # Loop through each row in the metadata\n",
    "    \n",
    "    for index, row in tqdm(metadata.iterrows(), total=len(metadata)):\n",
    "        #Load the audio file\n",
    "        audio_file=row['path']\n",
    "        # Extract features\n",
    "        feature=extract_features(audio_file)\n",
    "        # Append features and labels to the lists\n",
    "        if feature is not None:\n",
    "            features.append(feature)\n",
    "            labels.append(row['emotion'])\n",
    "    # Convert features and labels to numpy arrays\n",
    "    features=np.array(features)\n",
    "    labels=np.array(labels)\n",
    "    # Return the features and labels\n",
    "    return features, labels\n",
    "\n",
    "        "
   ]
  },
  {
   "cell_type": "code",
   "execution_count": 7,
   "metadata": {},
   "outputs": [
    {
     "name": "stderr",
     "output_type": "stream",
     "text": [
      "  0%|          | 0/1440 [00:00<?, ?it/s]/home/saadyaq/SE/Python/emotion_detector/src/feature_extraction.py:30: FutureWarning: librosa.beat.tempo\n",
      "\tThis function was moved to 'librosa.feature.rhythm.tempo' in librosa version 0.10.0.\n",
      "\tThis alias will be removed in librosa version 1.0.\n",
      "  features['tempo']=np.mean(librosa.beat.tempo(y=y,sr=sr))\n",
      "100%|██████████| 1440/1440 [06:54<00:00,  3.47it/s]\n"
     ]
    }
   ],
   "source": [
    "# Load features and labels using the load_data function\n",
    "features, labels = load_data(df)\n",
    "\n",
    "# Save the features and labels to .npy files\n",
    "np.save(\"../data/X.npy\", features)\n",
    "np.save(\"../data/y.npy\", labels)\n"
   ]
  }
 ],
 "metadata": {
  "kernelspec": {
   "display_name": "venv",
   "language": "python",
   "name": "python3"
  },
  "language_info": {
   "codemirror_mode": {
    "name": "ipython",
    "version": 3
   },
   "file_extension": ".py",
   "mimetype": "text/x-python",
   "name": "python",
   "nbconvert_exporter": "python",
   "pygments_lexer": "ipython3",
   "version": "3.12.3"
  }
 },
 "nbformat": 4,
 "nbformat_minor": 2
}
