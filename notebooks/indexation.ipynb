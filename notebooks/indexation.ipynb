{
 "cells": [
  {
   "cell_type": "code",
   "execution_count": 2,
   "metadata": {},
   "outputs": [],
   "source": [
    "import os\n",
    "import pandas as pd"
   ]
  },
  {
   "cell_type": "code",
   "execution_count": 3,
   "metadata": {},
   "outputs": [],
   "source": [
    "data_dir=\"/home/saadyaq/SE/Python/emotion_detector/data/raw/SPEECH_RECOGNITION/audio_speech_actors_01-24\""
   ]
  },
  {
   "cell_type": "code",
   "execution_count": 4,
   "metadata": {},
   "outputs": [],
   "source": [
    "emotion_map={\n",
    "    \"01\":\"neutral\",\n",
    "    \"02\":\"calm\",\n",
    "    \"03\":\"happy\",\n",
    "    \"04\":\"sad\",\n",
    "    \"05\":\"angry\",\n",
    "    \"06\":\"fearful\",\n",
    "    \"07\":\"disgust\",\n",
    "    \"08\":\"surprised\"\n",
    "}"
   ]
  },
  {
   "cell_type": "code",
   "execution_count": 5,
   "metadata": {},
   "outputs": [],
   "source": [
    "#Collecte des infos\n",
    "filepaths=[]\n",
    "emotions=[]\n",
    "actors=[]\n",
    "for root,dirs,files in os.walk(data_dir):\n",
    "    for file in files:\n",
    "        if file.endswith(\".wav\"):\n",
    "            parts=file.split(\"-\")\n",
    "            emotion_code=parts[2]\n",
    "            actor_id=root.split(\"_\")[-1]\n",
    "            filepaths.append(os.path.join(root,file))\n",
    "            emotions.append(emotion_map[emotion_code])\n",
    "            actors.append(actor_id)\n"
   ]
  },
  {
   "cell_type": "code",
   "execution_count": 7,
   "metadata": {},
   "outputs": [],
   "source": [
    "df=pd.DataFrame({\n",
    "    \"path\":filepaths,\n",
    "    \"actor\":actors,\n",
    "    \"emotion\":emotions\n",
    "})\n",
    "df.to_csv(\"../data/metadata.csv\",index=False)"
   ]
  },
  {
   "cell_type": "code",
   "execution_count": 8,
   "metadata": {},
   "outputs": [
    {
     "data": {
      "text/html": [
       "<div>\n",
       "<style scoped>\n",
       "    .dataframe tbody tr th:only-of-type {\n",
       "        vertical-align: middle;\n",
       "    }\n",
       "\n",
       "    .dataframe tbody tr th {\n",
       "        vertical-align: top;\n",
       "    }\n",
       "\n",
       "    .dataframe thead th {\n",
       "        text-align: right;\n",
       "    }\n",
       "</style>\n",
       "<table border=\"1\" class=\"dataframe\">\n",
       "  <thead>\n",
       "    <tr style=\"text-align: right;\">\n",
       "      <th></th>\n",
       "      <th>path</th>\n",
       "      <th>actor</th>\n",
       "      <th>emotion</th>\n",
       "    </tr>\n",
       "  </thead>\n",
       "  <tbody>\n",
       "    <tr>\n",
       "      <th>0</th>\n",
       "      <td>/home/saadyaq/SE/Python/emotion_detector/data/...</td>\n",
       "      <td>18</td>\n",
       "      <td>sad</td>\n",
       "    </tr>\n",
       "    <tr>\n",
       "      <th>1</th>\n",
       "      <td>/home/saadyaq/SE/Python/emotion_detector/data/...</td>\n",
       "      <td>18</td>\n",
       "      <td>fearful</td>\n",
       "    </tr>\n",
       "    <tr>\n",
       "      <th>2</th>\n",
       "      <td>/home/saadyaq/SE/Python/emotion_detector/data/...</td>\n",
       "      <td>18</td>\n",
       "      <td>neutral</td>\n",
       "    </tr>\n",
       "    <tr>\n",
       "      <th>3</th>\n",
       "      <td>/home/saadyaq/SE/Python/emotion_detector/data/...</td>\n",
       "      <td>18</td>\n",
       "      <td>angry</td>\n",
       "    </tr>\n",
       "    <tr>\n",
       "      <th>4</th>\n",
       "      <td>/home/saadyaq/SE/Python/emotion_detector/data/...</td>\n",
       "      <td>18</td>\n",
       "      <td>happy</td>\n",
       "    </tr>\n",
       "  </tbody>\n",
       "</table>\n",
       "</div>"
      ],
      "text/plain": [
       "                                                path actor  emotion\n",
       "0  /home/saadyaq/SE/Python/emotion_detector/data/...    18      sad\n",
       "1  /home/saadyaq/SE/Python/emotion_detector/data/...    18  fearful\n",
       "2  /home/saadyaq/SE/Python/emotion_detector/data/...    18  neutral\n",
       "3  /home/saadyaq/SE/Python/emotion_detector/data/...    18    angry\n",
       "4  /home/saadyaq/SE/Python/emotion_detector/data/...    18    happy"
      ]
     },
     "execution_count": 8,
     "metadata": {},
     "output_type": "execute_result"
    }
   ],
   "source": [
    "df.head()"
   ]
  },
  {
   "cell_type": "code",
   "execution_count": 11,
   "metadata": {},
   "outputs": [
    {
     "data": {
      "text/plain": [
       "emotion\n",
       "sad          192\n",
       "fearful      192\n",
       "angry        192\n",
       "happy        192\n",
       "surprised    192\n",
       "disgust      192\n",
       "calm         192\n",
       "neutral       96\n",
       "Name: count, dtype: int64"
      ]
     },
     "execution_count": 11,
     "metadata": {},
     "output_type": "execute_result"
    }
   ],
   "source": [
    "df['emotion'].value_counts()"
   ]
  },
  {
   "cell_type": "code",
   "execution_count": 9,
   "metadata": {},
   "outputs": [
    {
     "data": {
      "text/plain": [
       "<Axes: xlabel='emotion'>"
      ]
     },
     "execution_count": 9,
     "metadata": {},
     "output_type": "execute_result"
    },
    {
     "data": {
      "image/png": "[encoded data removed]",
      "text/plain": [
       "<Figure size 640x480 with 1 Axes>"
      ]
     },
     "metadata": {},
     "output_type": "display_data"
    }
   ],
   "source": [
    "df[\"emotion\"].value_counts().plot(kind=\"bar\")"
   ]
  },
  {
   "cell_type": "code",
   "execution_count": null,
   "metadata": {},
   "outputs": [],
   "source": []
  }
 ],
 "metadata": {
  "kernelspec": {
   "display_name": "venv",
   "language": "python",
   "name": "python3"
  },
  "language_info": {
   "codemirror_mode": {
    "name": "ipython",
    "version": 3
   },
   "file_extension": ".py",
   "mimetype": "text/x-python",
   "name": "python",
   "nbconvert_exporter": "python",
   "pygments_lexer": "ipython3",
   "version": "3.12.3"
  }
 },
 "nbformat": 4,
 "nbformat_minor": 2
}
